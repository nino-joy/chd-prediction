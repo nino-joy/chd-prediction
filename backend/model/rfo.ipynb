{
 "cells": [
  {
   "cell_type": "code",
   "execution_count": 2,
   "metadata": {},
   "outputs": [
    {
     "data": {
      "text/plain": [
       "(2043, 11)"
      ]
     },
     "execution_count": 2,
     "metadata": {},
     "output_type": "execute_result"
    }
   ],
   "source": [
    "import pandas as pd\n",
    "df = pd.read_csv('input.csv')\n",
    "df.shape"
   ]
  },
  {
   "cell_type": "code",
   "execution_count": 3,
   "metadata": {},
   "outputs": [
    {
     "data": {
      "text/html": [
       "<div>\n",
       "<style scoped>\n",
       "    .dataframe tbody tr th:only-of-type {\n",
       "        vertical-align: middle;\n",
       "    }\n",
       "\n",
       "    .dataframe tbody tr th {\n",
       "        vertical-align: top;\n",
       "    }\n",
       "\n",
       "    .dataframe thead th {\n",
       "        text-align: right;\n",
       "    }\n",
       "</style>\n",
       "<table border=\"1\" class=\"dataframe\">\n",
       "  <thead>\n",
       "    <tr style=\"text-align: right;\">\n",
       "      <th></th>\n",
       "      <th>Unnamed: 0</th>\n",
       "      <th>sex</th>\n",
       "      <th>age</th>\n",
       "      <th>bp</th>\n",
       "      <th>chol</th>\n",
       "      <th>hdl</th>\n",
       "      <th>diab</th>\n",
       "      <th>Target</th>\n",
       "      <th>wc</th>\n",
       "      <th>bmi</th>\n",
       "      <th>N_FAT</th>\n",
       "    </tr>\n",
       "  </thead>\n",
       "  <tbody>\n",
       "    <tr>\n",
       "      <th>0</th>\n",
       "      <td>0</td>\n",
       "      <td>2</td>\n",
       "      <td>64</td>\n",
       "      <td>116</td>\n",
       "      <td>175</td>\n",
       "      <td>74.400</td>\n",
       "      <td>0</td>\n",
       "      <td>0</td>\n",
       "      <td>85.8</td>\n",
       "      <td>25.600000</td>\n",
       "      <td>45.262769</td>\n",
       "    </tr>\n",
       "    <tr>\n",
       "      <th>1</th>\n",
       "      <td>1</td>\n",
       "      <td>2</td>\n",
       "      <td>43</td>\n",
       "      <td>105</td>\n",
       "      <td>253</td>\n",
       "      <td>32.512</td>\n",
       "      <td>0</td>\n",
       "      <td>0</td>\n",
       "      <td>80.3</td>\n",
       "      <td>24.531125</td>\n",
       "      <td>30.823617</td>\n",
       "    </tr>\n",
       "    <tr>\n",
       "      <th>2</th>\n",
       "      <td>2</td>\n",
       "      <td>1</td>\n",
       "      <td>52</td>\n",
       "      <td>143</td>\n",
       "      <td>196</td>\n",
       "      <td>49.648</td>\n",
       "      <td>0</td>\n",
       "      <td>0</td>\n",
       "      <td>71.9</td>\n",
       "      <td>23.100262</td>\n",
       "      <td>34.918353</td>\n",
       "    </tr>\n",
       "  </tbody>\n",
       "</table>\n",
       "</div>"
      ],
      "text/plain": [
       "   Unnamed: 0  sex  age   bp  chol     hdl  diab  Target    wc        bmi  \\\n",
       "0           0    2   64  116   175  74.400     0       0  85.8  25.600000   \n",
       "1           1    2   43  105   253  32.512     0       0  80.3  24.531125   \n",
       "2           2    1   52  143   196  49.648     0       0  71.9  23.100262   \n",
       "\n",
       "       N_FAT  \n",
       "0  45.262769  \n",
       "1  30.823617  \n",
       "2  34.918353  "
      ]
     },
     "execution_count": 3,
     "metadata": {},
     "output_type": "execute_result"
    }
   ],
   "source": [
    "df.head(3)"
   ]
  },
  {
   "cell_type": "code",
   "execution_count": 4,
   "metadata": {},
   "outputs": [
    {
     "data": {
      "text/plain": [
       "0    1646\n",
       "1     397\n",
       "Name: Target, dtype: int64"
      ]
     },
     "execution_count": 4,
     "metadata": {},
     "output_type": "execute_result"
    }
   ],
   "source": [
    "df.Target.value_counts()"
   ]
  },
  {
   "cell_type": "code",
   "execution_count": 5,
   "metadata": {},
   "outputs": [],
   "source": [
    "disease = len(df[df['Target'] == 1])\n",
    "no_disease = len(df[df['Target']== 0])"
   ]
  },
  {
   "cell_type": "code",
   "execution_count": 6,
   "metadata": {},
   "outputs": [
    {
     "data": {
      "text/plain": [
       "Unnamed: 0    0\n",
       "sex           0\n",
       "age           0\n",
       "bp            0\n",
       "chol          0\n",
       "hdl           0\n",
       "diab          0\n",
       "Target        0\n",
       "wc            0\n",
       "bmi           0\n",
       "N_FAT         0\n",
       "dtype: int64"
      ]
     },
     "execution_count": 6,
     "metadata": {},
     "output_type": "execute_result"
    }
   ],
   "source": [
    "df.isna().sum() # missing values"
   ]
  },
  {
   "cell_type": "code",
   "execution_count": 7,
   "metadata": {},
   "outputs": [],
   "source": [
    "qualitative = []\n",
    "quantitative = []\n",
    "for feature in df.columns:\n",
    "    if len(df[feature].unique()) <= 8:\n",
    "        qualitative.append(feature)\n",
    "    else:\n",
    "        quantitative.append(feature)"
   ]
  },
  {
   "cell_type": "code",
   "execution_count": 8,
   "metadata": {},
   "outputs": [
    {
     "data": {
      "text/plain": [
       "['Unnamed: 0', 'age', 'bp', 'chol', 'hdl', 'wc', 'bmi', 'N_FAT']"
      ]
     },
     "execution_count": 8,
     "metadata": {},
     "output_type": "execute_result"
    }
   ],
   "source": [
    "quantitative"
   ]
  },
  {
   "cell_type": "code",
   "execution_count": 9,
   "metadata": {},
   "outputs": [
    {
     "data": {
      "text/plain": [
       "['sex', 'diab', 'Target']"
      ]
     },
     "execution_count": 9,
     "metadata": {},
     "output_type": "execute_result"
    }
   ],
   "source": [
    "qualitative"
   ]
  },
  {
   "cell_type": "code",
   "execution_count": 10,
   "metadata": {},
   "outputs": [
    {
     "name": "stdout",
     "output_type": "stream",
     "text": [
      "shape of X and y respectively : (2043, 9) (2043,)\n"
     ]
    }
   ],
   "source": [
    "X = df.drop(columns=['Target','Unnamed: 0'])\n",
    "y = df['Target']\n",
    "print('shape of X and y respectively :', X.shape, y.shape)"
   ]
  },
  {
   "cell_type": "code",
   "execution_count": 11,
   "metadata": {},
   "outputs": [
    {
     "name": "stdout",
     "output_type": "stream",
     "text": [
      "shape of X and y respectively (train) : (1634, 9) (1634,)\n",
      "shape of X and y respectively (test) : (409, 9) (409,)\n"
     ]
    }
   ],
   "source": [
    "from sklearn.model_selection import train_test_split\n",
    "X_train, X_test, y_train, y_test = train_test_split(X, y, test_size=0.2, random_state=0)\n",
    "print('shape of X and y respectively (train) :', X_train.shape, y_train.shape)\n",
    "print('shape of X and y respectively (test) :', X_test.shape, y_test.shape)\n"
   ]
  },
  {
   "cell_type": "code",
   "execution_count": 12,
   "metadata": {},
   "outputs": [
    {
     "name": "stdout",
     "output_type": "stream",
     "text": [
      "RandomForestClassifier\n",
      "Training Score: 1.0\n",
      "Testing Score: 0.9633251833740831\n"
     ]
    }
   ],
   "source": [
    "print('RandomForestClassifier')\n",
    "from sklearn.ensemble import RandomForestClassifier\n",
    "model = RandomForestClassifier(n_estimators=100) # , max_depth=5, random_state=1\n",
    "model.fit(X_train, y_train)\n",
    "Y_pred = model.predict(X_test)\n",
    "score = model.score(X_train, y_train)\n",
    "print('Training Score:', score)\n",
    "score = model.score(X_test, y_test)\n",
    "print('Testing Score:', score)\n",
    "\n"
   ]
  },
  {
   "cell_type": "code",
   "execution_count": 37,
   "metadata": {},
   "outputs": [
    {
     "name": "stdout",
     "output_type": "stream",
     "text": [
      "[1]\n"
     ]
    }
   ],
   "source": [
    "import numpy as np\n",
    "test_data = np.array([1,\t50\t,150, 250,\t30,\t1\t,80,\t22,\t55\t])\n",
    "print(model.predict(test_data.reshape(1,9)))"
   ]
  },
  {
   "cell_type": "code",
   "execution_count": 38,
   "metadata": {},
   "outputs": [
    {
     "data": {
      "text/plain": [
       "0.9633251833740831"
      ]
     },
     "execution_count": 38,
     "metadata": {},
     "output_type": "execute_result"
    }
   ],
   "source": [
    "from sklearn.metrics import accuracy_score\n",
    "accuracy_score(Y_pred,y_test)"
   ]
  },
  {
   "cell_type": "code",
   "execution_count": 39,
   "metadata": {},
   "outputs": [],
   "source": [
    "import pickle\n",
    "filename = 'finalized_model.pkl'\n",
    "pickle.dump(model, open(filename, 'wb'))"
   ]
  },
  {
   "cell_type": "code",
   "execution_count": null,
   "metadata": {},
   "outputs": [],
   "source": [
    "\n"
   ]
  }
 ],
 "metadata": {
  "interpreter": {
   "hash": "916dbcbb3f70747c44a77c7bcd40155683ae19c65e1c03b4aa3499c5328201f1"
  },
  "kernelspec": {
   "display_name": "Python 3.8.10 64-bit",
   "language": "python",
   "name": "python3"
  },
  "language_info": {
   "codemirror_mode": {
    "name": "ipython",
    "version": 3
   },
   "file_extension": ".py",
   "mimetype": "text/x-python",
   "name": "python",
   "nbconvert_exporter": "python",
   "pygments_lexer": "ipython3",
   "version": "3.8.10"
  },
  "orig_nbformat": 4
 },
 "nbformat": 4,
 "nbformat_minor": 2
}
